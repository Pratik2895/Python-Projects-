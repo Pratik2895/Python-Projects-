{
 "cells": [
  {
   "cell_type": "code",
   "execution_count": null,
   "id": "8d7c7335",
   "metadata": {},
   "outputs": [],
   "source": [
    "import pandas as pd\n",
    "df=pd.read_csv(r\"D:\\data science\\python\\pandas python\\6. India Census 2011.csv\")"
   ]
  },
  {
   "cell_type": "code",
   "execution_count": null,
   "id": "1f35df77",
   "metadata": {},
   "outputs": [],
   "source": [
    "df.head()\n",
    "#df.style.hide_index()\n"
   ]
  },
  {
   "cell_type": "code",
   "execution_count": null,
   "id": "c2734723",
   "metadata": {},
   "outputs": [],
   "source": [
    "df.style.set_caption(\"INDIA Census 2011 Dataset\")"
   ]
  },
  {
   "cell_type": "code",
   "execution_count": null,
   "id": "6b408998",
   "metadata": {},
   "outputs": [],
   "source": [
    "df[\"District_name\"].unique()"
   ]
  },
  {
   "cell_type": "code",
   "execution_count": null,
   "id": "c2dced79",
   "metadata": {},
   "outputs": [],
   "source": [
    "df[df[\"District_name\"].isin([\"New Delhi\",\"Lucknow\",\"Jaipur\"])]"
   ]
  },
  {
   "cell_type": "code",
   "execution_count": null,
   "id": "dd735bc9",
   "metadata": {},
   "outputs": [],
   "source": [
    "df[\"Population\"].sum()\n",
    "df.columns"
   ]
  },
  {
   "cell_type": "code",
   "execution_count": null,
   "id": "752c95cb",
   "metadata": {},
   "outputs": [],
   "source": [
    "df.groupby(\"State_name\")['Hindus', 'Muslims', 'Christians', 'Sikhs', 'Buddhists', 'Jains'].sum().sort_values(by=\"Hindus\")"
   ]
  },
  {
   "cell_type": "code",
   "execution_count": null,
   "id": "4209ebe2",
   "metadata": {},
   "outputs": [],
   "source": [
    "df.head()\n",
    "df[\"State_name\"].unique()"
   ]
  },
  {
   "cell_type": "code",
   "execution_count": null,
   "id": "ba1b94e9",
   "metadata": {},
   "outputs": [],
   "source": [
    "df[df[\"State_name\"]==\"MAHARASHTRA\"].Male_Workers.sum()"
   ]
  },
  {
   "cell_type": "code",
   "execution_count": null,
   "id": "27108657",
   "metadata": {},
   "outputs": [],
   "source": [
    "df.set_index(\"District_code\")"
   ]
  },
  {
   "cell_type": "code",
   "execution_count": null,
   "id": "200dd02f",
   "metadata": {},
   "outputs": [],
   "source": [
    "df.style.hide_index()"
   ]
  },
  {
   "cell_type": "code",
   "execution_count": null,
   "id": "b33f582b",
   "metadata": {},
   "outputs": [],
   "source": [
    "#df.add_suffix(\"_right\")"
   ]
  },
  {
   "cell_type": "code",
   "execution_count": null,
   "id": "b9956638",
   "metadata": {},
   "outputs": [],
   "source": [
    "df.add_prefix(\"pratik\")"
   ]
  }
 ],
 "metadata": {
  "kernelspec": {
   "display_name": "Python 3.10.4 64-bit",
   "language": "python",
   "name": "python3"
  },
  "language_info": {
   "codemirror_mode": {
    "name": "ipython",
    "version": 3
   },
   "file_extension": ".py",
   "mimetype": "text/x-python",
   "name": "python",
   "nbconvert_exporter": "python",
   "pygments_lexer": "ipython3",
   "version": "3.10.4"
  },
  "vscode": {
   "interpreter": {
    "hash": "2e47b97e2733a6ec496a1da82c2f0b7e55196e1490feb66375c27c70a4b6c40f"
   }
  }
 },
 "nbformat": 4,
 "nbformat_minor": 5
}
